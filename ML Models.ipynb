{
 "cells": [
  {
   "cell_type": "code",
   "execution_count": 1,
   "metadata": {},
   "outputs": [],
   "source": [
    "import numpy as np\n",
    "import pandas as pd\n",
    "import matplotlib.pyplot as plt\n",
    "import seaborn as sns\n",
    "%matplotlib inline"
   ]
  },
  {
   "cell_type": "code",
   "execution_count": 101,
   "metadata": {},
   "outputs": [],
   "source": [
    "df = pd.read_csv('Dataset_clean_f.csv')"
   ]
  },
  {
   "cell_type": "code",
   "execution_count": 102,
   "metadata": {},
   "outputs": [
    {
     "data": {
      "text/html": [
       "<div>\n",
       "<style scoped>\n",
       "    .dataframe tbody tr th:only-of-type {\n",
       "        vertical-align: middle;\n",
       "    }\n",
       "\n",
       "    .dataframe tbody tr th {\n",
       "        vertical-align: top;\n",
       "    }\n",
       "\n",
       "    .dataframe thead th {\n",
       "        text-align: right;\n",
       "    }\n",
       "</style>\n",
       "<table border=\"1\" class=\"dataframe\">\n",
       "  <thead>\n",
       "    <tr style=\"text-align: right;\">\n",
       "      <th></th>\n",
       "      <th>StartTime</th>\n",
       "      <th>LastTime</th>\n",
       "      <th>Dur</th>\n",
       "      <th>SrcAddr</th>\n",
       "      <th>DstAddr</th>\n",
       "      <th>Proto</th>\n",
       "      <th>TotPkts</th>\n",
       "      <th>SrcPkts</th>\n",
       "      <th>DstPkts</th>\n",
       "      <th>TotBytes</th>\n",
       "      <th>...</th>\n",
       "      <th>DstRate</th>\n",
       "      <th>State</th>\n",
       "      <th>SrcWin</th>\n",
       "      <th>DstWin</th>\n",
       "      <th>TcpRtt</th>\n",
       "      <th>SynAck</th>\n",
       "      <th>AckDat</th>\n",
       "      <th>hour</th>\n",
       "      <th>min</th>\n",
       "      <th>class</th>\n",
       "    </tr>\n",
       "  </thead>\n",
       "  <tbody>\n",
       "    <tr>\n",
       "      <th>0</th>\n",
       "      <td>2021-03-15 14:39:09.629944</td>\n",
       "      <td>2021-03-15 14:39:13.282923</td>\n",
       "      <td>3.652979</td>\n",
       "      <td>172.20.10.5</td>\n",
       "      <td>172.20.10.2</td>\n",
       "      <td>tcp</td>\n",
       "      <td>20</td>\n",
       "      <td>10</td>\n",
       "      <td>10</td>\n",
       "      <td>1839</td>\n",
       "      <td>...</td>\n",
       "      <td>2.463743</td>\n",
       "      <td>1</td>\n",
       "      <td>64256.0</td>\n",
       "      <td>131456.0</td>\n",
       "      <td>0.000295</td>\n",
       "      <td>0.000175</td>\n",
       "      <td>0.000120</td>\n",
       "      <td>14</td>\n",
       "      <td>39</td>\n",
       "      <td>4.0</td>\n",
       "    </tr>\n",
       "    <tr>\n",
       "      <th>1</th>\n",
       "      <td>2021-03-15 14:39:22.815682</td>\n",
       "      <td>2021-03-15 14:39:22.815974</td>\n",
       "      <td>0.000292</td>\n",
       "      <td>172.20.10.5</td>\n",
       "      <td>172.20.10.2</td>\n",
       "      <td>tcp</td>\n",
       "      <td>4</td>\n",
       "      <td>2</td>\n",
       "      <td>2</td>\n",
       "      <td>478</td>\n",
       "      <td>...</td>\n",
       "      <td>3424.657471</td>\n",
       "      <td>1</td>\n",
       "      <td>64256.0</td>\n",
       "      <td>131328.0</td>\n",
       "      <td>0.000295</td>\n",
       "      <td>0.000175</td>\n",
       "      <td>0.000120</td>\n",
       "      <td>14</td>\n",
       "      <td>39</td>\n",
       "      <td>4.0</td>\n",
       "    </tr>\n",
       "    <tr>\n",
       "      <th>2</th>\n",
       "      <td>2021-03-15 14:39:58.689698</td>\n",
       "      <td>2021-03-15 14:39:58.691416</td>\n",
       "      <td>0.001718</td>\n",
       "      <td>172.20.10.5</td>\n",
       "      <td>172.20.10.2</td>\n",
       "      <td>tcp</td>\n",
       "      <td>12</td>\n",
       "      <td>6</td>\n",
       "      <td>6</td>\n",
       "      <td>884</td>\n",
       "      <td>...</td>\n",
       "      <td>2910.360840</td>\n",
       "      <td>1</td>\n",
       "      <td>64256.0</td>\n",
       "      <td>131648.0</td>\n",
       "      <td>0.000348</td>\n",
       "      <td>0.000121</td>\n",
       "      <td>0.000227</td>\n",
       "      <td>14</td>\n",
       "      <td>39</td>\n",
       "      <td>4.0</td>\n",
       "    </tr>\n",
       "    <tr>\n",
       "      <th>3</th>\n",
       "      <td>2021-03-15 14:40:02.573542</td>\n",
       "      <td>2021-03-15 14:40:03.889095</td>\n",
       "      <td>1.315553</td>\n",
       "      <td>172.20.10.5</td>\n",
       "      <td>172.20.10.2</td>\n",
       "      <td>tcp</td>\n",
       "      <td>8</td>\n",
       "      <td>4</td>\n",
       "      <td>4</td>\n",
       "      <td>958</td>\n",
       "      <td>...</td>\n",
       "      <td>2.280410</td>\n",
       "      <td>1</td>\n",
       "      <td>64256.0</td>\n",
       "      <td>131136.0</td>\n",
       "      <td>0.000295</td>\n",
       "      <td>0.000175</td>\n",
       "      <td>0.000120</td>\n",
       "      <td>14</td>\n",
       "      <td>40</td>\n",
       "      <td>4.0</td>\n",
       "    </tr>\n",
       "    <tr>\n",
       "      <th>4</th>\n",
       "      <td>2021-03-15 14:40:18.423558</td>\n",
       "      <td>2021-03-15 14:40:18.425145</td>\n",
       "      <td>0.001587</td>\n",
       "      <td>172.20.10.5</td>\n",
       "      <td>172.20.10.2</td>\n",
       "      <td>tcp</td>\n",
       "      <td>12</td>\n",
       "      <td>6</td>\n",
       "      <td>6</td>\n",
       "      <td>886</td>\n",
       "      <td>...</td>\n",
       "      <td>3150.598633</td>\n",
       "      <td>1</td>\n",
       "      <td>64256.0</td>\n",
       "      <td>131648.0</td>\n",
       "      <td>0.000250</td>\n",
       "      <td>0.000122</td>\n",
       "      <td>0.000128</td>\n",
       "      <td>14</td>\n",
       "      <td>40</td>\n",
       "      <td>4.0</td>\n",
       "    </tr>\n",
       "  </tbody>\n",
       "</table>\n",
       "<p>5 rows × 28 columns</p>\n",
       "</div>"
      ],
      "text/plain": [
       "                    StartTime                    LastTime       Dur  \\\n",
       "0  2021-03-15 14:39:09.629944  2021-03-15 14:39:13.282923  3.652979   \n",
       "1  2021-03-15 14:39:22.815682  2021-03-15 14:39:22.815974  0.000292   \n",
       "2  2021-03-15 14:39:58.689698  2021-03-15 14:39:58.691416  0.001718   \n",
       "3  2021-03-15 14:40:02.573542  2021-03-15 14:40:03.889095  1.315553   \n",
       "4  2021-03-15 14:40:18.423558  2021-03-15 14:40:18.425145  0.001587   \n",
       "\n",
       "       SrcAddr      DstAddr Proto  TotPkts  SrcPkts  DstPkts  TotBytes  ...  \\\n",
       "0  172.20.10.5  172.20.10.2   tcp       20       10       10      1839  ...   \n",
       "1  172.20.10.5  172.20.10.2   tcp        4        2        2       478  ...   \n",
       "2  172.20.10.5  172.20.10.2   tcp       12        6        6       884  ...   \n",
       "3  172.20.10.5  172.20.10.2   tcp        8        4        4       958  ...   \n",
       "4  172.20.10.5  172.20.10.2   tcp       12        6        6       886  ...   \n",
       "\n",
       "       DstRate  State   SrcWin    DstWin    TcpRtt    SynAck    AckDat  hour  \\\n",
       "0     2.463743      1  64256.0  131456.0  0.000295  0.000175  0.000120    14   \n",
       "1  3424.657471      1  64256.0  131328.0  0.000295  0.000175  0.000120    14   \n",
       "2  2910.360840      1  64256.0  131648.0  0.000348  0.000121  0.000227    14   \n",
       "3     2.280410      1  64256.0  131136.0  0.000295  0.000175  0.000120    14   \n",
       "4  3150.598633      1  64256.0  131648.0  0.000250  0.000122  0.000128    14   \n",
       "\n",
       "   min  class  \n",
       "0   39    4.0  \n",
       "1   39    4.0  \n",
       "2   39    4.0  \n",
       "3   40    4.0  \n",
       "4   40    4.0  \n",
       "\n",
       "[5 rows x 28 columns]"
      ]
     },
     "execution_count": 102,
     "metadata": {},
     "output_type": "execute_result"
    }
   ],
   "source": [
    "df.head()"
   ]
  },
  {
   "cell_type": "code",
   "execution_count": null,
   "metadata": {},
   "outputs": [],
   "source": []
  },
  {
   "cell_type": "code",
   "execution_count": 108,
   "metadata": {},
   "outputs": [
    {
     "name": "stdout",
     "output_type": "stream",
     "text": [
      "<class 'pandas.core.frame.DataFrame'>\n",
      "RangeIndex: 6269 entries, 0 to 6268\n",
      "Data columns (total 21 columns):\n",
      " #   Column    Non-Null Count  Dtype  \n",
      "---  ------    --------------  -----  \n",
      " 0   Dur       6269 non-null   float64\n",
      " 1   TotPkts   6269 non-null   int64  \n",
      " 2   SrcPkts   6269 non-null   int64  \n",
      " 3   DstPkts   6269 non-null   int64  \n",
      " 4   TotBytes  6269 non-null   int64  \n",
      " 5   SrcBytes  6269 non-null   int64  \n",
      " 6   Load      6269 non-null   float64\n",
      " 7   Loss      6269 non-null   int64  \n",
      " 8   SrcLoss   6269 non-null   int64  \n",
      " 9   DstLoss   6269 non-null   int64  \n",
      " 10  pLoss     6269 non-null   float64\n",
      " 11  Rate      6269 non-null   float64\n",
      " 12  SrcRate   6269 non-null   float64\n",
      " 13  DstRate   6269 non-null   float64\n",
      " 14  State     6269 non-null   int64  \n",
      " 15  SrcWin    6269 non-null   float64\n",
      " 16  DstWin    6269 non-null   float64\n",
      " 17  TcpRtt    6269 non-null   float64\n",
      " 18  SynAck    6269 non-null   float64\n",
      " 19  AckDat    6269 non-null   float64\n",
      " 20  class     6269 non-null   float64\n",
      "dtypes: float64(12), int64(9)\n",
      "memory usage: 1.0 MB\n"
     ]
    }
   ],
   "source": [
    "df.info()"
   ]
  },
  {
   "cell_type": "markdown",
   "metadata": {},
   "source": [
    "# Decision Tree Classifier"
   ]
  },
  {
   "cell_type": "code",
   "execution_count": 109,
   "metadata": {},
   "outputs": [],
   "source": [
    "from sklearn.model_selection import train_test_split"
   ]
  },
  {
   "cell_type": "code",
   "execution_count": 154,
   "metadata": {},
   "outputs": [],
   "source": [
    "X = df.drop('class',axis=1)\n",
    "y = df['class']\n",
    "X_train, X_test, y_train, y_test = train_test_split(X, y, test_size=0.33, random_state=101)"
   ]
  },
  {
   "cell_type": "code",
   "execution_count": 155,
   "metadata": {},
   "outputs": [],
   "source": [
    "from sklearn.tree import DecisionTreeClassifier"
   ]
  },
  {
   "cell_type": "code",
   "execution_count": 156,
   "metadata": {},
   "outputs": [],
   "source": [
    "dtree = DecisionTreeClassifier()"
   ]
  },
  {
   "cell_type": "code",
   "execution_count": 157,
   "metadata": {},
   "outputs": [
    {
     "data": {
      "text/plain": [
       "DecisionTreeClassifier(ccp_alpha=0.0, class_weight=None, criterion='gini',\n",
       "                       max_depth=None, max_features=None, max_leaf_nodes=None,\n",
       "                       min_impurity_decrease=0.0, min_impurity_split=None,\n",
       "                       min_samples_leaf=1, min_samples_split=2,\n",
       "                       min_weight_fraction_leaf=0.0, presort='deprecated',\n",
       "                       random_state=None, splitter='best')"
      ]
     },
     "execution_count": 157,
     "metadata": {},
     "output_type": "execute_result"
    }
   ],
   "source": [
    "dtree.fit(X_train,y_train)"
   ]
  },
  {
   "cell_type": "code",
   "execution_count": 158,
   "metadata": {},
   "outputs": [],
   "source": [
    "predictions1 = dtree.predict(X_test)"
   ]
  },
  {
   "cell_type": "code",
   "execution_count": 159,
   "metadata": {},
   "outputs": [],
   "source": [
    "from sklearn.metrics import classification_report,confusion_matrix"
   ]
  },
  {
   "cell_type": "code",
   "execution_count": 160,
   "metadata": {},
   "outputs": [
    {
     "name": "stdout",
     "output_type": "stream",
     "text": [
      "              precision    recall  f1-score   support\n",
      "\n",
      "         1.0       0.94      0.99      0.96       149\n",
      "         2.0       0.99      0.99      0.99      1040\n",
      "         3.0       0.93      0.84      0.88        91\n",
      "         4.0       1.00      1.00      1.00       789\n",
      "\n",
      "    accuracy                           0.99      2069\n",
      "   macro avg       0.96      0.95      0.96      2069\n",
      "weighted avg       0.99      0.99      0.99      2069\n",
      "\n"
     ]
    }
   ],
   "source": [
    "print(classification_report(y_test,predictions1))"
   ]
  },
  {
   "cell_type": "code",
   "execution_count": 161,
   "metadata": {},
   "outputs": [
    {
     "name": "stdout",
     "output_type": "stream",
     "text": [
      "[[ 147    0    2    0]\n",
      " [   4 1032    4    0]\n",
      " [   6    9   76    0]\n",
      " [   0    0    0  789]]\n"
     ]
    }
   ],
   "source": [
    "print(confusion_matrix(y_test,predictions1))"
   ]
  },
  {
   "cell_type": "code",
   "execution_count": 162,
   "metadata": {},
   "outputs": [
    {
     "data": {
      "text/plain": [
       "0.9879168680521991"
      ]
     },
     "execution_count": 162,
     "metadata": {},
     "output_type": "execute_result"
    }
   ],
   "source": [
    "from sklearn.metrics import confusion_matrix,accuracy_score\n",
    "accuracy_score(y_test,predictions1)"
   ]
  },
  {
   "cell_type": "code",
   "execution_count": null,
   "metadata": {},
   "outputs": [],
   "source": []
  },
  {
   "cell_type": "markdown",
   "metadata": {},
   "source": [
    "# Random Forest Classifier"
   ]
  },
  {
   "cell_type": "code",
   "execution_count": 121,
   "metadata": {},
   "outputs": [
    {
     "data": {
      "text/html": [
       "<div>\n",
       "<style scoped>\n",
       "    .dataframe tbody tr th:only-of-type {\n",
       "        vertical-align: middle;\n",
       "    }\n",
       "\n",
       "    .dataframe tbody tr th {\n",
       "        vertical-align: top;\n",
       "    }\n",
       "\n",
       "    .dataframe thead th {\n",
       "        text-align: right;\n",
       "    }\n",
       "</style>\n",
       "<table border=\"1\" class=\"dataframe\">\n",
       "  <thead>\n",
       "    <tr style=\"text-align: right;\">\n",
       "      <th></th>\n",
       "      <th>Dur</th>\n",
       "      <th>TotPkts</th>\n",
       "      <th>SrcPkts</th>\n",
       "      <th>DstPkts</th>\n",
       "      <th>TotBytes</th>\n",
       "      <th>SrcBytes</th>\n",
       "      <th>Load</th>\n",
       "      <th>Loss</th>\n",
       "      <th>SrcLoss</th>\n",
       "      <th>DstLoss</th>\n",
       "      <th>...</th>\n",
       "      <th>Rate</th>\n",
       "      <th>SrcRate</th>\n",
       "      <th>DstRate</th>\n",
       "      <th>State</th>\n",
       "      <th>SrcWin</th>\n",
       "      <th>DstWin</th>\n",
       "      <th>TcpRtt</th>\n",
       "      <th>SynAck</th>\n",
       "      <th>AckDat</th>\n",
       "      <th>class</th>\n",
       "    </tr>\n",
       "  </thead>\n",
       "  <tbody>\n",
       "    <tr>\n",
       "      <th>0</th>\n",
       "      <td>3.652979</td>\n",
       "      <td>20</td>\n",
       "      <td>10</td>\n",
       "      <td>10</td>\n",
       "      <td>1839</td>\n",
       "      <td>943</td>\n",
       "      <td>3.626629e+03</td>\n",
       "      <td>0</td>\n",
       "      <td>0</td>\n",
       "      <td>0</td>\n",
       "      <td>...</td>\n",
       "      <td>5.201234</td>\n",
       "      <td>2.463743</td>\n",
       "      <td>2.463743</td>\n",
       "      <td>1</td>\n",
       "      <td>64256.0</td>\n",
       "      <td>131456.0</td>\n",
       "      <td>0.000295</td>\n",
       "      <td>0.000175</td>\n",
       "      <td>0.000120</td>\n",
       "      <td>4.0</td>\n",
       "    </tr>\n",
       "    <tr>\n",
       "      <th>1</th>\n",
       "      <td>0.000292</td>\n",
       "      <td>4</td>\n",
       "      <td>2</td>\n",
       "      <td>2</td>\n",
       "      <td>478</td>\n",
       "      <td>239</td>\n",
       "      <td>6.575342e+06</td>\n",
       "      <td>0</td>\n",
       "      <td>0</td>\n",
       "      <td>0</td>\n",
       "      <td>...</td>\n",
       "      <td>10273.972656</td>\n",
       "      <td>3424.657471</td>\n",
       "      <td>3424.657471</td>\n",
       "      <td>1</td>\n",
       "      <td>64256.0</td>\n",
       "      <td>131328.0</td>\n",
       "      <td>0.000295</td>\n",
       "      <td>0.000175</td>\n",
       "      <td>0.000120</td>\n",
       "      <td>4.0</td>\n",
       "    </tr>\n",
       "    <tr>\n",
       "      <th>2</th>\n",
       "      <td>0.001718</td>\n",
       "      <td>12</td>\n",
       "      <td>6</td>\n",
       "      <td>6</td>\n",
       "      <td>884</td>\n",
       "      <td>467</td>\n",
       "      <td>3.436554e+06</td>\n",
       "      <td>0</td>\n",
       "      <td>0</td>\n",
       "      <td>0</td>\n",
       "      <td>...</td>\n",
       "      <td>6402.793945</td>\n",
       "      <td>2910.360840</td>\n",
       "      <td>2910.360840</td>\n",
       "      <td>1</td>\n",
       "      <td>64256.0</td>\n",
       "      <td>131648.0</td>\n",
       "      <td>0.000348</td>\n",
       "      <td>0.000121</td>\n",
       "      <td>0.000227</td>\n",
       "      <td>4.0</td>\n",
       "    </tr>\n",
       "    <tr>\n",
       "      <th>3</th>\n",
       "      <td>1.315553</td>\n",
       "      <td>8</td>\n",
       "      <td>4</td>\n",
       "      <td>4</td>\n",
       "      <td>958</td>\n",
       "      <td>479</td>\n",
       "      <td>4.378387e+03</td>\n",
       "      <td>0</td>\n",
       "      <td>0</td>\n",
       "      <td>0</td>\n",
       "      <td>...</td>\n",
       "      <td>5.320957</td>\n",
       "      <td>2.280410</td>\n",
       "      <td>2.280410</td>\n",
       "      <td>1</td>\n",
       "      <td>64256.0</td>\n",
       "      <td>131136.0</td>\n",
       "      <td>0.000295</td>\n",
       "      <td>0.000175</td>\n",
       "      <td>0.000120</td>\n",
       "      <td>4.0</td>\n",
       "    </tr>\n",
       "    <tr>\n",
       "      <th>4</th>\n",
       "      <td>0.001587</td>\n",
       "      <td>12</td>\n",
       "      <td>6</td>\n",
       "      <td>6</td>\n",
       "      <td>886</td>\n",
       "      <td>469</td>\n",
       "      <td>3.725268e+06</td>\n",
       "      <td>0</td>\n",
       "      <td>0</td>\n",
       "      <td>0</td>\n",
       "      <td>...</td>\n",
       "      <td>6931.316895</td>\n",
       "      <td>3150.598633</td>\n",
       "      <td>3150.598633</td>\n",
       "      <td>1</td>\n",
       "      <td>64256.0</td>\n",
       "      <td>131648.0</td>\n",
       "      <td>0.000250</td>\n",
       "      <td>0.000122</td>\n",
       "      <td>0.000128</td>\n",
       "      <td>4.0</td>\n",
       "    </tr>\n",
       "  </tbody>\n",
       "</table>\n",
       "<p>5 rows × 21 columns</p>\n",
       "</div>"
      ],
      "text/plain": [
       "        Dur  TotPkts  SrcPkts  DstPkts  TotBytes  SrcBytes          Load  \\\n",
       "0  3.652979       20       10       10      1839       943  3.626629e+03   \n",
       "1  0.000292        4        2        2       478       239  6.575342e+06   \n",
       "2  0.001718       12        6        6       884       467  3.436554e+06   \n",
       "3  1.315553        8        4        4       958       479  4.378387e+03   \n",
       "4  0.001587       12        6        6       886       469  3.725268e+06   \n",
       "\n",
       "   Loss  SrcLoss  DstLoss  ...          Rate      SrcRate      DstRate  State  \\\n",
       "0     0        0        0  ...      5.201234     2.463743     2.463743      1   \n",
       "1     0        0        0  ...  10273.972656  3424.657471  3424.657471      1   \n",
       "2     0        0        0  ...   6402.793945  2910.360840  2910.360840      1   \n",
       "3     0        0        0  ...      5.320957     2.280410     2.280410      1   \n",
       "4     0        0        0  ...   6931.316895  3150.598633  3150.598633      1   \n",
       "\n",
       "    SrcWin    DstWin    TcpRtt    SynAck    AckDat  class  \n",
       "0  64256.0  131456.0  0.000295  0.000175  0.000120    4.0  \n",
       "1  64256.0  131328.0  0.000295  0.000175  0.000120    4.0  \n",
       "2  64256.0  131648.0  0.000348  0.000121  0.000227    4.0  \n",
       "3  64256.0  131136.0  0.000295  0.000175  0.000120    4.0  \n",
       "4  64256.0  131648.0  0.000250  0.000122  0.000128    4.0  \n",
       "\n",
       "[5 rows x 21 columns]"
      ]
     },
     "execution_count": 121,
     "metadata": {},
     "output_type": "execute_result"
    }
   ],
   "source": [
    "df.head()"
   ]
  },
  {
   "cell_type": "code",
   "execution_count": 163,
   "metadata": {},
   "outputs": [],
   "source": [
    "from sklearn.ensemble import RandomForestClassifier"
   ]
  },
  {
   "cell_type": "code",
   "execution_count": 164,
   "metadata": {},
   "outputs": [],
   "source": [
    "rfc = RandomForestClassifier(n_estimators=600)"
   ]
  },
  {
   "cell_type": "code",
   "execution_count": 165,
   "metadata": {},
   "outputs": [
    {
     "data": {
      "text/plain": [
       "RandomForestClassifier(bootstrap=True, ccp_alpha=0.0, class_weight=None,\n",
       "                       criterion='gini', max_depth=None, max_features='auto',\n",
       "                       max_leaf_nodes=None, max_samples=None,\n",
       "                       min_impurity_decrease=0.0, min_impurity_split=None,\n",
       "                       min_samples_leaf=1, min_samples_split=2,\n",
       "                       min_weight_fraction_leaf=0.0, n_estimators=600,\n",
       "                       n_jobs=None, oob_score=False, random_state=None,\n",
       "                       verbose=0, warm_start=False)"
      ]
     },
     "execution_count": 165,
     "metadata": {},
     "output_type": "execute_result"
    }
   ],
   "source": [
    "rfc.fit(X_train,y_train)"
   ]
  },
  {
   "cell_type": "code",
   "execution_count": 168,
   "metadata": {},
   "outputs": [],
   "source": [
    "predictions2 = rfc.predict(X_test)"
   ]
  },
  {
   "cell_type": "code",
   "execution_count": 166,
   "metadata": {},
   "outputs": [],
   "source": [
    "from sklearn.metrics import classification_report,confusion_matrix"
   ]
  },
  {
   "cell_type": "code",
   "execution_count": 169,
   "metadata": {},
   "outputs": [
    {
     "name": "stdout",
     "output_type": "stream",
     "text": [
      "              precision    recall  f1-score   support\n",
      "\n",
      "         1.0       0.93      0.99      0.96       149\n",
      "         2.0       0.99      0.99      0.99      1040\n",
      "         3.0       0.95      0.82      0.88        91\n",
      "         4.0       1.00      1.00      1.00       789\n",
      "\n",
      "    accuracy                           0.99      2069\n",
      "   macro avg       0.97      0.95      0.96      2069\n",
      "weighted avg       0.99      0.99      0.99      2069\n",
      "\n"
     ]
    }
   ],
   "source": [
    "print(classification_report(y_test,predictions2))"
   ]
  },
  {
   "cell_type": "code",
   "execution_count": 170,
   "metadata": {},
   "outputs": [
    {
     "name": "stdout",
     "output_type": "stream",
     "text": [
      "[[ 147    0    2    0]\n",
      " [   4 1034    2    0]\n",
      " [   7    9   75    0]\n",
      " [   0    0    0  789]]\n"
     ]
    }
   ],
   "source": [
    "print(confusion_matrix(y_test,predictions2))"
   ]
  },
  {
   "cell_type": "code",
   "execution_count": 172,
   "metadata": {},
   "outputs": [
    {
     "data": {
      "text/plain": [
       "0.9884001933301112"
      ]
     },
     "execution_count": 172,
     "metadata": {},
     "output_type": "execute_result"
    }
   ],
   "source": [
    "from sklearn.metrics import confusion_matrix,accuracy_score\n",
    "accuracy_score(y_test,predictions2)"
   ]
  },
  {
   "cell_type": "markdown",
   "metadata": {},
   "source": [
    "# KNN"
   ]
  },
  {
   "cell_type": "code",
   "execution_count": 130,
   "metadata": {},
   "outputs": [],
   "source": [
    "from sklearn.preprocessing import StandardScaler"
   ]
  },
  {
   "cell_type": "code",
   "execution_count": 131,
   "metadata": {},
   "outputs": [],
   "source": [
    "scaler = StandardScaler()"
   ]
  },
  {
   "cell_type": "code",
   "execution_count": 132,
   "metadata": {},
   "outputs": [
    {
     "data": {
      "text/plain": [
       "StandardScaler(copy=True, with_mean=True, with_std=True)"
      ]
     },
     "execution_count": 132,
     "metadata": {},
     "output_type": "execute_result"
    }
   ],
   "source": [
    "scaler.fit(df.drop('class',axis=1))"
   ]
  },
  {
   "cell_type": "code",
   "execution_count": 133,
   "metadata": {},
   "outputs": [],
   "source": [
    "scaled_features = scaler.transform(df.drop('class',axis=1))"
   ]
  },
  {
   "cell_type": "code",
   "execution_count": 134,
   "metadata": {},
   "outputs": [
    {
     "data": {
      "text/html": [
       "<div>\n",
       "<style scoped>\n",
       "    .dataframe tbody tr th:only-of-type {\n",
       "        vertical-align: middle;\n",
       "    }\n",
       "\n",
       "    .dataframe tbody tr th {\n",
       "        vertical-align: top;\n",
       "    }\n",
       "\n",
       "    .dataframe thead th {\n",
       "        text-align: right;\n",
       "    }\n",
       "</style>\n",
       "<table border=\"1\" class=\"dataframe\">\n",
       "  <thead>\n",
       "    <tr style=\"text-align: right;\">\n",
       "      <th></th>\n",
       "      <th>Dur</th>\n",
       "      <th>TotPkts</th>\n",
       "      <th>SrcPkts</th>\n",
       "      <th>DstPkts</th>\n",
       "      <th>TotBytes</th>\n",
       "      <th>SrcBytes</th>\n",
       "      <th>Load</th>\n",
       "      <th>Loss</th>\n",
       "      <th>SrcLoss</th>\n",
       "      <th>DstLoss</th>\n",
       "      <th>pLoss</th>\n",
       "      <th>Rate</th>\n",
       "      <th>SrcRate</th>\n",
       "      <th>DstRate</th>\n",
       "      <th>State</th>\n",
       "      <th>SrcWin</th>\n",
       "      <th>DstWin</th>\n",
       "      <th>TcpRtt</th>\n",
       "      <th>SynAck</th>\n",
       "      <th>AckDat</th>\n",
       "    </tr>\n",
       "  </thead>\n",
       "  <tbody>\n",
       "    <tr>\n",
       "      <th>0</th>\n",
       "      <td>2.064908</td>\n",
       "      <td>0.088798</td>\n",
       "      <td>0.073453</td>\n",
       "      <td>0.107294</td>\n",
       "      <td>-0.027997</td>\n",
       "      <td>-0.031359</td>\n",
       "      <td>-0.350528</td>\n",
       "      <td>-0.197161</td>\n",
       "      <td>-0.191377</td>\n",
       "      <td>-0.194836</td>\n",
       "      <td>-0.205849</td>\n",
       "      <td>-0.417255</td>\n",
       "      <td>-0.377458</td>\n",
       "      <td>-0.374223</td>\n",
       "      <td>-0.888988</td>\n",
       "      <td>-0.273341</td>\n",
       "      <td>0.541902</td>\n",
       "      <td>-0.291851</td>\n",
       "      <td>-0.068873</td>\n",
       "      <td>-0.283484</td>\n",
       "    </tr>\n",
       "    <tr>\n",
       "      <th>1</th>\n",
       "      <td>-0.474878</td>\n",
       "      <td>-0.094537</td>\n",
       "      <td>-0.092454</td>\n",
       "      <td>-0.096702</td>\n",
       "      <td>-0.049952</td>\n",
       "      <td>-0.046477</td>\n",
       "      <td>5.000353</td>\n",
       "      <td>-0.197161</td>\n",
       "      <td>-0.191377</td>\n",
       "      <td>-0.194836</td>\n",
       "      <td>-0.205849</td>\n",
       "      <td>2.586185</td>\n",
       "      <td>3.879826</td>\n",
       "      <td>3.884485</td>\n",
       "      <td>-0.888988</td>\n",
       "      <td>-0.273341</td>\n",
       "      <td>0.539536</td>\n",
       "      <td>-0.291851</td>\n",
       "      <td>-0.068873</td>\n",
       "      <td>-0.283484</td>\n",
       "    </tr>\n",
       "    <tr>\n",
       "      <th>2</th>\n",
       "      <td>-0.473887</td>\n",
       "      <td>-0.002870</td>\n",
       "      <td>-0.009501</td>\n",
       "      <td>0.005296</td>\n",
       "      <td>-0.043403</td>\n",
       "      <td>-0.041581</td>\n",
       "      <td>2.444661</td>\n",
       "      <td>-0.197161</td>\n",
       "      <td>-0.191377</td>\n",
       "      <td>-0.194836</td>\n",
       "      <td>-0.205849</td>\n",
       "      <td>1.453932</td>\n",
       "      <td>3.240030</td>\n",
       "      <td>3.244475</td>\n",
       "      <td>-0.888988</td>\n",
       "      <td>-0.273341</td>\n",
       "      <td>0.545451</td>\n",
       "      <td>-0.290900</td>\n",
       "      <td>-0.072881</td>\n",
       "      <td>-0.281508</td>\n",
       "    </tr>\n",
       "    <tr>\n",
       "      <th>3</th>\n",
       "      <td>0.439649</td>\n",
       "      <td>-0.048703</td>\n",
       "      <td>-0.050978</td>\n",
       "      <td>-0.045703</td>\n",
       "      <td>-0.042209</td>\n",
       "      <td>-0.041323</td>\n",
       "      <td>-0.349916</td>\n",
       "      <td>-0.197161</td>\n",
       "      <td>-0.191377</td>\n",
       "      <td>-0.194836</td>\n",
       "      <td>-0.205849</td>\n",
       "      <td>-0.417220</td>\n",
       "      <td>-0.377686</td>\n",
       "      <td>-0.374452</td>\n",
       "      <td>-0.888988</td>\n",
       "      <td>-0.273341</td>\n",
       "      <td>0.535987</td>\n",
       "      <td>-0.291851</td>\n",
       "      <td>-0.068873</td>\n",
       "      <td>-0.283484</td>\n",
       "    </tr>\n",
       "    <tr>\n",
       "      <th>4</th>\n",
       "      <td>-0.473978</td>\n",
       "      <td>-0.002870</td>\n",
       "      <td>-0.009501</td>\n",
       "      <td>0.005296</td>\n",
       "      <td>-0.043371</td>\n",
       "      <td>-0.041538</td>\n",
       "      <td>2.679740</td>\n",
       "      <td>-0.197161</td>\n",
       "      <td>-0.191377</td>\n",
       "      <td>-0.194836</td>\n",
       "      <td>-0.205849</td>\n",
       "      <td>1.608515</td>\n",
       "      <td>3.538891</td>\n",
       "      <td>3.543436</td>\n",
       "      <td>-0.888988</td>\n",
       "      <td>-0.273341</td>\n",
       "      <td>0.545451</td>\n",
       "      <td>-0.292658</td>\n",
       "      <td>-0.072807</td>\n",
       "      <td>-0.283337</td>\n",
       "    </tr>\n",
       "  </tbody>\n",
       "</table>\n",
       "</div>"
      ],
      "text/plain": [
       "        Dur   TotPkts   SrcPkts   DstPkts  TotBytes  SrcBytes      Load  \\\n",
       "0  2.064908  0.088798  0.073453  0.107294 -0.027997 -0.031359 -0.350528   \n",
       "1 -0.474878 -0.094537 -0.092454 -0.096702 -0.049952 -0.046477  5.000353   \n",
       "2 -0.473887 -0.002870 -0.009501  0.005296 -0.043403 -0.041581  2.444661   \n",
       "3  0.439649 -0.048703 -0.050978 -0.045703 -0.042209 -0.041323 -0.349916   \n",
       "4 -0.473978 -0.002870 -0.009501  0.005296 -0.043371 -0.041538  2.679740   \n",
       "\n",
       "       Loss   SrcLoss   DstLoss     pLoss      Rate   SrcRate   DstRate  \\\n",
       "0 -0.197161 -0.191377 -0.194836 -0.205849 -0.417255 -0.377458 -0.374223   \n",
       "1 -0.197161 -0.191377 -0.194836 -0.205849  2.586185  3.879826  3.884485   \n",
       "2 -0.197161 -0.191377 -0.194836 -0.205849  1.453932  3.240030  3.244475   \n",
       "3 -0.197161 -0.191377 -0.194836 -0.205849 -0.417220 -0.377686 -0.374452   \n",
       "4 -0.197161 -0.191377 -0.194836 -0.205849  1.608515  3.538891  3.543436   \n",
       "\n",
       "      State    SrcWin    DstWin    TcpRtt    SynAck    AckDat  \n",
       "0 -0.888988 -0.273341  0.541902 -0.291851 -0.068873 -0.283484  \n",
       "1 -0.888988 -0.273341  0.539536 -0.291851 -0.068873 -0.283484  \n",
       "2 -0.888988 -0.273341  0.545451 -0.290900 -0.072881 -0.281508  \n",
       "3 -0.888988 -0.273341  0.535987 -0.291851 -0.068873 -0.283484  \n",
       "4 -0.888988 -0.273341  0.545451 -0.292658 -0.072807 -0.283337  "
      ]
     },
     "execution_count": 134,
     "metadata": {},
     "output_type": "execute_result"
    }
   ],
   "source": [
    "df_feat = pd.DataFrame(scaled_features,columns=df.columns[:-1])\n",
    "df_feat.head()"
   ]
  },
  {
   "cell_type": "code",
   "execution_count": 135,
   "metadata": {},
   "outputs": [],
   "source": [
    "X_train, X_test, y_train, y_test = train_test_split(scaled_features,df['class'],\n",
    "                                                    test_size=0.30)"
   ]
  },
  {
   "cell_type": "code",
   "execution_count": 136,
   "metadata": {},
   "outputs": [],
   "source": [
    "from sklearn.neighbors import KNeighborsClassifier"
   ]
  },
  {
   "cell_type": "code",
   "execution_count": 137,
   "metadata": {},
   "outputs": [],
   "source": [
    "knn = KNeighborsClassifier(n_neighbors=1)"
   ]
  },
  {
   "cell_type": "code",
   "execution_count": 138,
   "metadata": {},
   "outputs": [
    {
     "data": {
      "text/plain": [
       "KNeighborsClassifier(algorithm='auto', leaf_size=30, metric='minkowski',\n",
       "                     metric_params=None, n_jobs=None, n_neighbors=1, p=2,\n",
       "                     weights='uniform')"
      ]
     },
     "execution_count": 138,
     "metadata": {},
     "output_type": "execute_result"
    }
   ],
   "source": [
    "knn.fit(X_train,y_train)"
   ]
  },
  {
   "cell_type": "code",
   "execution_count": 139,
   "metadata": {},
   "outputs": [],
   "source": [
    "pred = knn.predict(X_test)"
   ]
  },
  {
   "cell_type": "code",
   "execution_count": 140,
   "metadata": {},
   "outputs": [
    {
     "name": "stdout",
     "output_type": "stream",
     "text": [
      "[[122   4   6   2]\n",
      " [  9 895   7   0]\n",
      " [  6   5  79   0]\n",
      " [  1   3   0 742]]\n"
     ]
    }
   ],
   "source": [
    "print(confusion_matrix(y_test,pred))"
   ]
  },
  {
   "cell_type": "code",
   "execution_count": 141,
   "metadata": {},
   "outputs": [
    {
     "name": "stdout",
     "output_type": "stream",
     "text": [
      "              precision    recall  f1-score   support\n",
      "\n",
      "         1.0       0.88      0.91      0.90       134\n",
      "         2.0       0.99      0.98      0.98       911\n",
      "         3.0       0.86      0.88      0.87        90\n",
      "         4.0       1.00      0.99      1.00       746\n",
      "\n",
      "    accuracy                           0.98      1881\n",
      "   macro avg       0.93      0.94      0.94      1881\n",
      "weighted avg       0.98      0.98      0.98      1881\n",
      "\n"
     ]
    }
   ],
   "source": [
    "print(classification_report(y_test,pred))"
   ]
  },
  {
   "cell_type": "code",
   "execution_count": 142,
   "metadata": {},
   "outputs": [
    {
     "data": {
      "text/plain": [
       "0.9771398192450824"
      ]
     },
     "execution_count": 142,
     "metadata": {},
     "output_type": "execute_result"
    }
   ],
   "source": [
    "accuracy_score(y_test,pred)"
   ]
  },
  {
   "cell_type": "markdown",
   "metadata": {},
   "source": [
    "# SVM"
   ]
  },
  {
   "cell_type": "code",
   "execution_count": 173,
   "metadata": {},
   "outputs": [],
   "source": [
    "X_train, X_test, y_train, y_test = train_test_split(df, np.ravel(df['class']), test_size=0.30, random_state=101)"
   ]
  },
  {
   "cell_type": "code",
   "execution_count": 174,
   "metadata": {},
   "outputs": [],
   "source": [
    "from sklearn.svm import SVC"
   ]
  },
  {
   "cell_type": "code",
   "execution_count": 175,
   "metadata": {},
   "outputs": [],
   "source": [
    "model = SVC()"
   ]
  },
  {
   "cell_type": "code",
   "execution_count": 176,
   "metadata": {},
   "outputs": [
    {
     "data": {
      "text/plain": [
       "SVC(C=1.0, break_ties=False, cache_size=200, class_weight=None, coef0=0.0,\n",
       "    decision_function_shape='ovr', degree=3, gamma='scale', kernel='rbf',\n",
       "    max_iter=-1, probability=False, random_state=None, shrinking=True,\n",
       "    tol=0.001, verbose=False)"
      ]
     },
     "execution_count": 176,
     "metadata": {},
     "output_type": "execute_result"
    }
   ],
   "source": [
    "model.fit(X_train,y_train)"
   ]
  },
  {
   "cell_type": "code",
   "execution_count": 177,
   "metadata": {},
   "outputs": [],
   "source": [
    "predictions3 = model.predict(X_test)"
   ]
  },
  {
   "cell_type": "code",
   "execution_count": 178,
   "metadata": {},
   "outputs": [],
   "source": [
    "from sklearn.metrics import classification_report,confusion_matrix"
   ]
  },
  {
   "cell_type": "code",
   "execution_count": 179,
   "metadata": {},
   "outputs": [
    {
     "name": "stdout",
     "output_type": "stream",
     "text": [
      "[[ 97  37   0   0]\n",
      " [  0 947   0   0]\n",
      " [ 40  16   0  27]\n",
      " [  0  15   0 702]]\n"
     ]
    }
   ],
   "source": [
    "print(confusion_matrix(y_test,predictions3))"
   ]
  },
  {
   "cell_type": "code",
   "execution_count": 180,
   "metadata": {},
   "outputs": [
    {
     "name": "stdout",
     "output_type": "stream",
     "text": [
      "              precision    recall  f1-score   support\n",
      "\n",
      "         1.0       0.71      0.72      0.72       134\n",
      "         2.0       0.93      1.00      0.97       947\n",
      "         3.0       0.00      0.00      0.00        83\n",
      "         4.0       0.96      0.98      0.97       717\n",
      "\n",
      "    accuracy                           0.93      1881\n",
      "   macro avg       0.65      0.68      0.66      1881\n",
      "weighted avg       0.89      0.93      0.91      1881\n",
      "\n"
     ]
    },
    {
     "name": "stderr",
     "output_type": "stream",
     "text": [
      "/Users/alighannadrad/opt/anaconda3/lib/python3.7/site-packages/sklearn/metrics/_classification.py:1272: UndefinedMetricWarning: Precision and F-score are ill-defined and being set to 0.0 in labels with no predicted samples. Use `zero_division` parameter to control this behavior.\n",
      "  _warn_prf(average, modifier, msg_start, len(result))\n"
     ]
    }
   ],
   "source": [
    "print(classification_report(y_test,predictions3))"
   ]
  },
  {
   "cell_type": "code",
   "execution_count": 181,
   "metadata": {},
   "outputs": [
    {
     "data": {
      "text/plain": [
       "0.9282296650717703"
      ]
     },
     "execution_count": 181,
     "metadata": {},
     "output_type": "execute_result"
    }
   ],
   "source": [
    "accuracy_score(y_test,predictions3)"
   ]
  },
  {
   "cell_type": "code",
   "execution_count": 183,
   "metadata": {},
   "outputs": [],
   "source": [
    "df1 = df.to_csv('Dataset_clean_final.csv')"
   ]
  },
  {
   "cell_type": "code",
   "execution_count": null,
   "metadata": {},
   "outputs": [],
   "source": []
  }
 ],
 "metadata": {
  "kernelspec": {
   "display_name": "Python 3",
   "language": "python",
   "name": "python3"
  },
  "language_info": {
   "codemirror_mode": {
    "name": "ipython",
    "version": 3
   },
   "file_extension": ".py",
   "mimetype": "text/x-python",
   "name": "python",
   "nbconvert_exporter": "python",
   "pygments_lexer": "ipython3",
   "version": "3.7.6"
  }
 },
 "nbformat": 4,
 "nbformat_minor": 4
}
